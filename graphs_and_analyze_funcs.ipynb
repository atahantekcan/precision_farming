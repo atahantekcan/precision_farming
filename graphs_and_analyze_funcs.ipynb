{
  "nbformat": 4,
  "nbformat_minor": 0,
  "metadata": {
    "colab": {
      "provenance": [],
      "include_colab_link": true
    },
    "kernelspec": {
      "name": "python3",
      "display_name": "Python 3"
    },
    "language_info": {
      "name": "python"
    }
  },
  "cells": [
    {
      "cell_type": "markdown",
      "metadata": {
        "id": "view-in-github",
        "colab_type": "text"
      },
      "source": [
        "<a href=\"https://colab.research.google.com/github/atahantekcan/precision_farming/blob/main/graphs_and_analyze_funcs.ipynb\" target=\"_parent\"><img src=\"https://colab.research.google.com/assets/colab-badge.svg\" alt=\"Open In Colab\"/></a>"
      ]
    },
    {
      "cell_type": "markdown",
      "source": [
        "## GRAPHS AND ANALYZE FUNCTIONS"
      ],
      "metadata": {
        "id": "_9SjrK7ar2SF"
      }
    },
    {
      "cell_type": "code",
      "execution_count": 8,
      "metadata": {
        "id": "1TtgDohJiCGe"
      },
      "outputs": [],
      "source": [
        "import numpy as np\n",
        "import pandas as pd\n",
        "import matplotlib.pyplot as plt\n",
        "import seaborn as sns\n",
        "import plotly.express as px\n",
        "from sklearn.decomposition import PCA\n",
        "from sklearn.preprocessing import StandardScaler\n",
        "from sklearn.linear_model import LinearRegression\n",
        "from sklearn.tree import DecisionTreeRegressor\n",
        "from sklearn.model_selection import cross_val_score, GridSearchCV\n",
        "from sklearn.preprocessing import LabelEncoder\n",
        "\n",
        "\n",
        "pd.set_option('display.max_columns', None)\n",
        "pd.set_option('display.max_rows', None)\n",
        "pd.set_option('display.float_format', lambda x: '%.3f' % x)\n",
        "pd.set_option('display.width', 500)"
      ]
    },
    {
      "cell_type": "code",
      "source": [
        "df = pd.read_csv(\"Crop_recommendation.csv\")"
      ],
      "metadata": {
        "id": "baIfZp3qjsfC"
      },
      "execution_count": 9,
      "outputs": []
    },
    {
      "cell_type": "markdown",
      "source": [
        "Graphs"
      ],
      "metadata": {
        "id": "BsAIUYzxB-fF"
      }
    },
    {
      "cell_type": "code",
      "source": [
        "# Visualizing variables w histogram, violin and boxplot\n",
        "plt.style.use('fast')\n",
        "sns.set_palette(\"Set2\")\n",
        "for i in df.columns[:-1]:\n",
        "    fig,ax=plt.subplots(1,3,figsize=(18,4))\n",
        "    sns.histplot(data=df,x=i,kde=True,bins=20,ax=ax[0])\n",
        "    sns.violinplot(data=df,x=i,ax=ax[1])\n",
        "    sns.boxplot(data=df,x=i,ax=ax[2])\n",
        "    plt.suptitle(f'Visualizing {i}',size=20)"
      ],
      "metadata": {
        "id": "C_RV8XxijuVO"
      },
      "execution_count": null,
      "outputs": []
    },
    {
      "cell_type": "code",
      "source": [
        "# Pairplot allows us to plot pairwise relationships between variables within a dataset\n",
        "sns.pairplot(df, hue ='label')"
      ],
      "metadata": {
        "id": "gRd-mCvvnTc-"
      },
      "execution_count": null,
      "outputs": []
    },
    {
      "cell_type": "code",
      "source": [
        "# Get pairplot graph lines by variable\n",
        "def scatter_func(var):\n",
        "  df_=df\n",
        "  df_=df_.drop([var, 'label'], axis=1)\n",
        "  sns.pairplot(df,\n",
        "              x_vars=df_.columns,\n",
        "              y_vars=var, hue='label', height=5)\n",
        "  plt.suptitle(f'Visualizing {var} with other variables', size=20, y=1.05)"
      ],
      "metadata": {
        "id": "YQfed0uMx8Hd"
      },
      "execution_count": null,
      "outputs": []
    },
    {
      "cell_type": "code",
      "source": [
        "scatter_func(\"P\")"
      ],
      "metadata": {
        "id": "3c_jIJowykMu"
      },
      "execution_count": null,
      "outputs": []
    },
    {
      "cell_type": "code",
      "source": [
        "# Get pairplot graph of 2 variables\n",
        "sns.relplot(x='rainfall',y='temperature',data=df,kind='scatter',hue='label',height=5)\n",
        "plt.show()"
      ],
      "metadata": {
        "id": "nsmMUKLhnDba"
      },
      "execution_count": null,
      "outputs": []
    },
    {
      "cell_type": "code",
      "source": [
        "# Heatmaps, show the relation between variabels.\n",
        "\"\"\" Positive correlations (when one variable increases, the other variable tends to increase) are usually represented by warm colors, such as red or orange.\n",
        "Negative correlations (when one variable increases, the other variable tends to decrease) are usually represented by cool colors, such as blue or green.\"\"\"\n",
        "plt.figure(figsize=(10,10))\n",
        "sns.heatmap(df.corr(),annot=True)"
      ],
      "metadata": {
        "id": "14VYbnPV2sYf"
      },
      "execution_count": null,
      "outputs": []
    },
    {
      "cell_type": "code",
      "source": [
        "# Comparision of Mean Attributes of various classes\n",
        "fig,ax=plt.subplots(7,1,figsize=(25,25))\n",
        "fig.suptitle(\"Comparision of Mean Attributes of various classes\",size=25, y= 0.9)\n",
        "grouped = df.groupby(by='label').mean().reset_index()\n",
        "for index,i in enumerate(grouped.columns[1:]):\n",
        "    sns.barplot(data=grouped,x='label',y=i,ax=ax[index]).set(xlabel=' ')\n"
      ],
      "metadata": {
        "id": "Zt5FUhSh7POy"
      },
      "execution_count": null,
      "outputs": []
    },
    {
      "cell_type": "code",
      "source": [
        "# Boxplots of Mean Attributes of various classes\n",
        "fig,ax=plt.subplots(7,1,figsize=(25,40))\n",
        "fig.suptitle(\"Boxplots of Mean Attributes of various classes\",size=25, y=0.9)\n",
        "grouped = df.groupby(by='label').mean().reset_index()\n",
        "for index,i in enumerate(grouped.columns[1:]):\n",
        "    sns.boxplot(data=df,x='label',y=i,ax=ax[index]).set(xlabel=' ')"
      ],
      "metadata": {
        "id": "0CJpjO9BKAmd"
      },
      "execution_count": null,
      "outputs": []
    },
    {
      "cell_type": "code",
      "source": [
        "# Get pairplot graph by variable\n",
        "def boxplot_func(var):\n",
        "  sns.catplot(data=df, x='label', y=var, kind='box', height=10, aspect=20/8.27)\n",
        "  plt.xticks(rotation='vertical')\n",
        "  plt.title(var, size=20)\n",
        "  plt.show()"
      ],
      "metadata": {
        "id": "JUIKRRCpC75K"
      },
      "execution_count": null,
      "outputs": []
    },
    {
      "cell_type": "code",
      "source": [
        "boxplot_func('N')"
      ],
      "metadata": {
        "id": "Ec1abhCEF0Mg"
      },
      "execution_count": null,
      "outputs": []
    },
    {
      "cell_type": "markdown",
      "source": [
        "Additional Analyze Functions"
      ],
      "metadata": {
        "id": "KBQAEzp9BqZF"
      }
    },
    {
      "cell_type": "code",
      "source": [
        "# Returns the entered crop's requirements respect to entered condition\n",
        "def crop_condition(crop, condition):\n",
        "    x = df[df['label'] == crop]\n",
        "    print(\"-------------------------------------------------\")\n",
        "    print(\"Statistics for :\" + condition)\n",
        "    print(\"Minimum Nitrogen Required :\", x[condition].min())\n",
        "    print(\"Average Nitrogen Required :\", x[condition].mean())\n",
        "    print(\"Maximum Nitrogen Required :\", x[condition].max())\n",
        "    print(\"-------------------------------------------------\")"
      ],
      "metadata": {
        "id": "HoIBWZQ2jlOl"
      },
      "execution_count": null,
      "outputs": []
    },
    {
      "cell_type": "code",
      "source": [
        "crop_condition('orange', 'N')"
      ],
      "metadata": {
        "id": "KrYhQIJajuVn"
      },
      "execution_count": null,
      "outputs": []
    },
    {
      "cell_type": "code",
      "source": [
        "# Returns the entered crop's requirements\n",
        "def crop_summary(crop):\n",
        "   con = df.columns.values.tolist()\n",
        "   con.remove('label')\n",
        "   for c in con:\n",
        "    x = df[df['label'] == crop]\n",
        "    print(\"Statistics for : \" + c)\n",
        "    print(\"Minimum Nitrogen Required :\", x[c].min())\n",
        "    print(\"Average Nitrogen Required :\", x[c].mean())\n",
        "    print(\"Maximum Nitrogen Required :\", x[c].max())\n",
        "    print(\"-------------------------------------------------\")"
      ],
      "metadata": {
        "id": "C8ZUINmXntwq"
      },
      "execution_count": null,
      "outputs": []
    },
    {
      "cell_type": "code",
      "source": [
        "crop_summary('orange')"
      ],
      "metadata": {
        "id": "Z9ikjyoOorN9"
      },
      "execution_count": null,
      "outputs": []
    },
    {
      "cell_type": "code",
      "source": [
        "# Returns the entered condition's comparation for all crops\n",
        "def compare(condition):\n",
        "  print(\"Average Value for\",condition,\"is {0: .2f}\".format(df[condition].mean()))\n",
        "  print(\"----------------------------------------------------------------\")\n",
        "  for c in df['label'].unique():\n",
        "    df_= df[df['label'] == c]\n",
        "    print(c,\": {0: .2f}\".format(df_[condition].mean()))"
      ],
      "metadata": {
        "id": "hpchpM1-j4Mb"
      },
      "execution_count": null,
      "outputs": []
    },
    {
      "cell_type": "code",
      "source": [
        "compare('N')"
      ],
      "metadata": {
        "id": "WLHbG2lUk2Ob"
      },
      "execution_count": null,
      "outputs": []
    }
  ]
}